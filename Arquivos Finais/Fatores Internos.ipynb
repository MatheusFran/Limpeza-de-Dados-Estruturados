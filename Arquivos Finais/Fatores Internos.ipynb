{
 "metadata": {
  "language_info": {
   "codemirror_mode": {
    "name": "ipython",
    "version": 3
   },
   "file_extension": ".py",
   "mimetype": "text/x-python",
   "name": "python",
   "nbconvert_exporter": "python",
   "pygments_lexer": "ipython3",
   "version": "3.8.5"
  },
  "orig_nbformat": 2,
  "kernelspec": {
   "name": "python385jvsc74a57bd008176a17baa995df33b7885fb8500d2ddd5f28c1a5f4a50f67ecbff117040e13",
   "display_name": "Python 3.8.5 64-bit ('base': conda)"
  }
 },
 "nbformat": 4,
 "nbformat_minor": 2,
 "cells": [
  {
   "cell_type": "code",
   "execution_count": 1,
   "metadata": {},
   "outputs": [],
   "source": [
    "import pandas as pd"
   ]
  },
  {
   "cell_type": "code",
   "execution_count": 2,
   "metadata": {},
   "outputs": [],
   "source": [
    "ordens=pd.read_csv('ordens.csv')\n",
    "ordemitens=pd.read_csv('ordemitens.csv')\n",
    "pagamentos=pd.read_csv('pagamentos.csv')"
   ]
  },
  {
   "cell_type": "code",
   "execution_count": 3,
   "metadata": {},
   "outputs": [
    {
     "output_type": "stream",
     "name": "stdout",
     "text": [
      "<class 'pandas.core.frame.DataFrame'>\nRangeIndex: 99441 entries, 0 to 99440\nData columns (total 9 columns):\n #   Column                    Non-Null Count  Dtype \n---  ------                    --------------  ----- \n 0   Unnamed: 0                99441 non-null  int64 \n 1   ID ordem                  99441 non-null  object\n 2   ID cliente                99441 non-null  object\n 3   Status da ordem           99441 non-null  object\n 4   Hora de compra            99441 non-null  object\n 5   Pedido aprovado em        99281 non-null  object\n 6   Data pedido entregue      97658 non-null  object\n 7   Data de entrega           96476 non-null  object\n 8   Data de entrega estimada  99441 non-null  object\ndtypes: int64(1), object(8)\nmemory usage: 6.8+ MB\n"
     ]
    }
   ],
   "source": [
    "ordens.info()"
   ]
  },
  {
   "cell_type": "code",
   "execution_count": 4,
   "metadata": {},
   "outputs": [
    {
     "output_type": "stream",
     "name": "stdout",
     "text": [
      "<class 'pandas.core.frame.DataFrame'>\nRangeIndex: 112650 entries, 0 to 112649\nData columns (total 8 columns):\n #   Column                Non-Null Count   Dtype  \n---  ------                --------------   -----  \n 0   Unnamed: 0            112650 non-null  int64  \n 1   ID ordem              112650 non-null  object \n 2   ID item               112650 non-null  int64  \n 3   ID produto            112650 non-null  object \n 4   ID venda              112650 non-null  object \n 5   Data limite do envio  112650 non-null  object \n 6   preço                 112650 non-null  float64\n 7   Valor do Frete        112650 non-null  float64\ndtypes: float64(2), int64(2), object(4)\nmemory usage: 6.9+ MB\n"
     ]
    }
   ],
   "source": [
    "ordemitens.info()"
   ]
  },
  {
   "cell_type": "code",
   "execution_count": 5,
   "metadata": {},
   "outputs": [
    {
     "output_type": "stream",
     "name": "stdout",
     "text": [
      "<class 'pandas.core.frame.DataFrame'>\nRangeIndex: 103886 entries, 0 to 103885\nData columns (total 6 columns):\n #   Column                Non-Null Count   Dtype  \n---  ------                --------------   -----  \n 0   Unnamed: 0            103886 non-null  int64  \n 1   ID ordem              103886 non-null  object \n 2   Pagamento sequencial  103886 non-null  int64  \n 3   Tipo de pagameto      103886 non-null  object \n 4   Parcelamento          103886 non-null  int64  \n 5   Valor do pagamento    103886 non-null  float64\ndtypes: float64(1), int64(3), object(2)\nmemory usage: 4.8+ MB\n"
     ]
    }
   ],
   "source": [
    "pagamentos.info()"
   ]
  },
  {
   "cell_type": "code",
   "execution_count": 6,
   "metadata": {},
   "outputs": [],
   "source": [
    "ordens=ordens.drop(['Unnamed: 0','Data pedido entregue'],axis=1)"
   ]
  },
  {
   "cell_type": "code",
   "execution_count": 7,
   "metadata": {},
   "outputs": [],
   "source": [
    "ordemitens=ordemitens.drop(['Unnamed: 0','ID item','Data limite do envio'],axis=1)"
   ]
  },
  {
   "cell_type": "code",
   "execution_count": 9,
   "metadata": {},
   "outputs": [],
   "source": [
    "pagamentos=pagamentos.drop(['Unnamed: 0','Pagamento sequencial'],axis=1)"
   ]
  },
  {
   "cell_type": "code",
   "execution_count": 11,
   "metadata": {},
   "outputs": [],
   "source": [
    "ordemgeral=pd.merge(ordens,ordemitens,how='inner',on=['ID ordem'])"
   ]
  },
  {
   "cell_type": "code",
   "execution_count": 15,
   "metadata": {},
   "outputs": [],
   "source": [
    "fatores_internos=pd.merge(ordemgeral,pagamentos,how='inner',on='ID ordem')"
   ]
  },
  {
   "cell_type": "code",
   "execution_count": 16,
   "metadata": {},
   "outputs": [],
   "source": [
    "fatores_internos.to_csv('fatores-internos.csv')"
   ]
  },
  {
   "cell_type": "code",
   "execution_count": null,
   "metadata": {},
   "outputs": [],
   "source": []
  }
 ]
}