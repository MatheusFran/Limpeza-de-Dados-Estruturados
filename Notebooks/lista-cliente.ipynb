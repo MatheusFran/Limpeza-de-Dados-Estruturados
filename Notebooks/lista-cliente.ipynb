{
 "metadata": {
  "language_info": {
   "codemirror_mode": {
    "name": "ipython",
    "version": 3
   },
   "file_extension": ".py",
   "mimetype": "text/x-python",
   "name": "python",
   "nbconvert_exporter": "python",
   "pygments_lexer": "ipython3",
   "version": "3.8.5"
  },
  "orig_nbformat": 2,
  "kernelspec": {
   "name": "python385jvsc74a57bd008176a17baa995df33b7885fb8500d2ddd5f28c1a5f4a50f67ecbff117040e13",
   "display_name": "Python 3.8.5 64-bit ('base': conda)"
  }
 },
 "nbformat": 4,
 "nbformat_minor": 2,
 "cells": [
  {
   "cell_type": "code",
   "execution_count": 1,
   "metadata": {},
   "outputs": [],
   "source": [
    "import pandas as pd"
   ]
  },
  {
   "cell_type": "code",
   "execution_count": 2,
   "metadata": {},
   "outputs": [
    {
     "output_type": "stream",
     "name": "stdout",
     "text": [
      "<class 'pandas.core.frame.DataFrame'>\nRangeIndex: 99441 entries, 0 to 99440\nData columns (total 5 columns):\n #   Column                    Non-Null Count  Dtype \n---  ------                    --------------  ----- \n 0   customer_id               99441 non-null  object\n 1   customer_unique_id        99441 non-null  object\n 2   customer_zip_code_prefix  99441 non-null  int64 \n 3   customer_city             99441 non-null  object\n 4   customer_state            99441 non-null  object\ndtypes: int64(1), object(4)\nmemory usage: 3.8+ MB\n"
     ]
    },
    {
     "output_type": "execute_result",
     "data": {
      "text/plain": [
       "                        customer_id                customer_unique_id  \\\n",
       "0  06b8999e2fba1a1fbc88172c00ba8bc7  861eff4711a542e4b93843c6dd7febb0   \n",
       "1  18955e83d337fd6b2def6b18a428ac77  290c77bc529b7ac935b93aa66c333dc3   \n",
       "2  4e7b3e00288586ebd08712fdd0374a03  060e732b5b29e8181a18229c7b0b2b5e   \n",
       "3  b2b6027bc5c5109e529d4dc6358b12c3  259dac757896d24d7702b9acbbff3f3c   \n",
       "4  4f2d8ab171c80ec8364f7c12e35b23ad  345ecd01c38d18a9036ed96c73b8d066   \n",
       "\n",
       "   customer_zip_code_prefix          customer_city customer_state  \n",
       "0                     14409                 franca             SP  \n",
       "1                      9790  sao bernardo do campo             SP  \n",
       "2                      1151              sao paulo             SP  \n",
       "3                      8775        mogi das cruzes             SP  \n",
       "4                     13056               campinas             SP  "
      ],
      "text/html": "<div>\n<style scoped>\n    .dataframe tbody tr th:only-of-type {\n        vertical-align: middle;\n    }\n\n    .dataframe tbody tr th {\n        vertical-align: top;\n    }\n\n    .dataframe thead th {\n        text-align: right;\n    }\n</style>\n<table border=\"1\" class=\"dataframe\">\n  <thead>\n    <tr style=\"text-align: right;\">\n      <th></th>\n      <th>customer_id</th>\n      <th>customer_unique_id</th>\n      <th>customer_zip_code_prefix</th>\n      <th>customer_city</th>\n      <th>customer_state</th>\n    </tr>\n  </thead>\n  <tbody>\n    <tr>\n      <th>0</th>\n      <td>06b8999e2fba1a1fbc88172c00ba8bc7</td>\n      <td>861eff4711a542e4b93843c6dd7febb0</td>\n      <td>14409</td>\n      <td>franca</td>\n      <td>SP</td>\n    </tr>\n    <tr>\n      <th>1</th>\n      <td>18955e83d337fd6b2def6b18a428ac77</td>\n      <td>290c77bc529b7ac935b93aa66c333dc3</td>\n      <td>9790</td>\n      <td>sao bernardo do campo</td>\n      <td>SP</td>\n    </tr>\n    <tr>\n      <th>2</th>\n      <td>4e7b3e00288586ebd08712fdd0374a03</td>\n      <td>060e732b5b29e8181a18229c7b0b2b5e</td>\n      <td>1151</td>\n      <td>sao paulo</td>\n      <td>SP</td>\n    </tr>\n    <tr>\n      <th>3</th>\n      <td>b2b6027bc5c5109e529d4dc6358b12c3</td>\n      <td>259dac757896d24d7702b9acbbff3f3c</td>\n      <td>8775</td>\n      <td>mogi das cruzes</td>\n      <td>SP</td>\n    </tr>\n    <tr>\n      <th>4</th>\n      <td>4f2d8ab171c80ec8364f7c12e35b23ad</td>\n      <td>345ecd01c38d18a9036ed96c73b8d066</td>\n      <td>13056</td>\n      <td>campinas</td>\n      <td>SP</td>\n    </tr>\n  </tbody>\n</table>\n</div>"
     },
     "metadata": {},
     "execution_count": 2
    }
   ],
   "source": [
    "Customers=pd.read_csv('olist_customers_dataset.csv',encoding='UTF-8')\n",
    "Customers.info()\n",
    "Customers.head()"
   ]
  },
  {
   "cell_type": "code",
   "execution_count": 3,
   "metadata": {},
   "outputs": [],
   "source": [
    "Customers=Customers.rename(columns={\n",
    "    'customer_id':'ID do cliente',\n",
    "    'customer_unique_id':'ID cliente',\n",
    "    'customer_zip_code_prefix':'Codigo Prefixado',\n",
    "    'customer_city':'Cidade',\n",
    "    'customer_state':'Estado'})"
   ]
  },
  {
   "cell_type": "code",
   "execution_count": 4,
   "metadata": {},
   "outputs": [
    {
     "output_type": "stream",
     "name": "stdout",
     "text": [
      "<class 'pandas.core.frame.DataFrame'>\nRangeIndex: 99441 entries, 0 to 99440\nData columns (total 5 columns):\n #   Column            Non-Null Count  Dtype \n---  ------            --------------  ----- \n 0   ID do cliente     99441 non-null  object\n 1   ID cliente        99441 non-null  object\n 2   Codigo Prefixado  99441 non-null  int64 \n 3   Cidade            99441 non-null  object\n 4   Estado            99441 non-null  object\ndtypes: int64(1), object(4)\nmemory usage: 3.8+ MB\n"
     ]
    }
   ],
   "source": [
    "Customers.head()\n",
    "Customers.info()"
   ]
  },
  {
   "cell_type": "code",
   "execution_count": 5,
   "metadata": {},
   "outputs": [],
   "source": [
    "Clientes=Customers.loc(axis=1)['Estado','Cidade','Codigo Prefixado','ID cliente','ID do cliente']"
   ]
  },
  {
   "cell_type": "code",
   "execution_count": 7,
   "metadata": {},
   "outputs": [
    {
     "output_type": "execute_result",
     "data": {
      "text/plain": [
       "  Estado                 Cidade  Codigo Prefixado  \\\n",
       "0     SP                 franca             14409   \n",
       "1     SP  sao bernardo do campo              9790   \n",
       "2     SP              sao paulo              1151   \n",
       "3     SP        mogi das cruzes              8775   \n",
       "4     SP               campinas             13056   \n",
       "\n",
       "                         ID cliente                     ID do cliente  \n",
       "0  861eff4711a542e4b93843c6dd7febb0  06b8999e2fba1a1fbc88172c00ba8bc7  \n",
       "1  290c77bc529b7ac935b93aa66c333dc3  18955e83d337fd6b2def6b18a428ac77  \n",
       "2  060e732b5b29e8181a18229c7b0b2b5e  4e7b3e00288586ebd08712fdd0374a03  \n",
       "3  259dac757896d24d7702b9acbbff3f3c  b2b6027bc5c5109e529d4dc6358b12c3  \n",
       "4  345ecd01c38d18a9036ed96c73b8d066  4f2d8ab171c80ec8364f7c12e35b23ad  "
      ],
      "text/html": "<div>\n<style scoped>\n    .dataframe tbody tr th:only-of-type {\n        vertical-align: middle;\n    }\n\n    .dataframe tbody tr th {\n        vertical-align: top;\n    }\n\n    .dataframe thead th {\n        text-align: right;\n    }\n</style>\n<table border=\"1\" class=\"dataframe\">\n  <thead>\n    <tr style=\"text-align: right;\">\n      <th></th>\n      <th>Estado</th>\n      <th>Cidade</th>\n      <th>Codigo Prefixado</th>\n      <th>ID cliente</th>\n      <th>ID do cliente</th>\n    </tr>\n  </thead>\n  <tbody>\n    <tr>\n      <th>0</th>\n      <td>SP</td>\n      <td>franca</td>\n      <td>14409</td>\n      <td>861eff4711a542e4b93843c6dd7febb0</td>\n      <td>06b8999e2fba1a1fbc88172c00ba8bc7</td>\n    </tr>\n    <tr>\n      <th>1</th>\n      <td>SP</td>\n      <td>sao bernardo do campo</td>\n      <td>9790</td>\n      <td>290c77bc529b7ac935b93aa66c333dc3</td>\n      <td>18955e83d337fd6b2def6b18a428ac77</td>\n    </tr>\n    <tr>\n      <th>2</th>\n      <td>SP</td>\n      <td>sao paulo</td>\n      <td>1151</td>\n      <td>060e732b5b29e8181a18229c7b0b2b5e</td>\n      <td>4e7b3e00288586ebd08712fdd0374a03</td>\n    </tr>\n    <tr>\n      <th>3</th>\n      <td>SP</td>\n      <td>mogi das cruzes</td>\n      <td>8775</td>\n      <td>259dac757896d24d7702b9acbbff3f3c</td>\n      <td>b2b6027bc5c5109e529d4dc6358b12c3</td>\n    </tr>\n    <tr>\n      <th>4</th>\n      <td>SP</td>\n      <td>campinas</td>\n      <td>13056</td>\n      <td>345ecd01c38d18a9036ed96c73b8d066</td>\n      <td>4f2d8ab171c80ec8364f7c12e35b23ad</td>\n    </tr>\n  </tbody>\n</table>\n</div>"
     },
     "metadata": {},
     "execution_count": 7
    }
   ],
   "source": [
    "Clientes.head()"
   ]
  },
  {
   "cell_type": "code",
   "execution_count": 10,
   "metadata": {},
   "outputs": [],
   "source": [
    "Clientes.to_csv(\"Lista-Clientes.csv\")"
   ]
  },
  {
   "cell_type": "code",
   "execution_count": null,
   "metadata": {},
   "outputs": [],
   "source": []
  }
 ]
}